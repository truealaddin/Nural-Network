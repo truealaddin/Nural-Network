{
 "cells": [
  {
   "cell_type": "code",
   "execution_count": 64,
   "metadata": {},
   "outputs": [],
   "source": [
    "import pandas as pd\n",
    "import numpy as np\n",
    "import tensorflow as tf\n",
    "\n",
    "\n",
    "from tensorflow.keras.layers import Dense, Dropout\n",
    "from tensorflow.keras.models import Sequential\n",
    "from sklearn.model_selection import train_test_split\n",
    "from sklearn.metrics import mean_squared_error, r2_score"
   ]
  },
  {
   "cell_type": "code",
   "execution_count": 2,
   "metadata": {},
   "outputs": [],
   "source": [
    "#read data\n",
    "df = pd.read_csv('StudentsPerformance.csv')"
   ]
  },
  {
   "cell_type": "code",
   "execution_count": 3,
   "metadata": {},
   "outputs": [
    {
     "data": {
      "text/html": [
       "<div>\n",
       "<style scoped>\n",
       "    .dataframe tbody tr th:only-of-type {\n",
       "        vertical-align: middle;\n",
       "    }\n",
       "\n",
       "    .dataframe tbody tr th {\n",
       "        vertical-align: top;\n",
       "    }\n",
       "\n",
       "    .dataframe thead th {\n",
       "        text-align: right;\n",
       "    }\n",
       "</style>\n",
       "<table border=\"1\" class=\"dataframe\">\n",
       "  <thead>\n",
       "    <tr style=\"text-align: right;\">\n",
       "      <th></th>\n",
       "      <th>gender</th>\n",
       "      <th>race/ethnicity</th>\n",
       "      <th>parental level of education</th>\n",
       "      <th>lunch</th>\n",
       "      <th>test preparation course</th>\n",
       "      <th>math score</th>\n",
       "      <th>reading score</th>\n",
       "      <th>writing score</th>\n",
       "    </tr>\n",
       "  </thead>\n",
       "  <tbody>\n",
       "    <tr>\n",
       "      <th>0</th>\n",
       "      <td>female</td>\n",
       "      <td>group B</td>\n",
       "      <td>bachelor's degree</td>\n",
       "      <td>standard</td>\n",
       "      <td>none</td>\n",
       "      <td>72</td>\n",
       "      <td>72</td>\n",
       "      <td>74</td>\n",
       "    </tr>\n",
       "    <tr>\n",
       "      <th>1</th>\n",
       "      <td>female</td>\n",
       "      <td>group C</td>\n",
       "      <td>some college</td>\n",
       "      <td>standard</td>\n",
       "      <td>completed</td>\n",
       "      <td>69</td>\n",
       "      <td>90</td>\n",
       "      <td>88</td>\n",
       "    </tr>\n",
       "    <tr>\n",
       "      <th>2</th>\n",
       "      <td>female</td>\n",
       "      <td>group B</td>\n",
       "      <td>master's degree</td>\n",
       "      <td>standard</td>\n",
       "      <td>none</td>\n",
       "      <td>90</td>\n",
       "      <td>95</td>\n",
       "      <td>93</td>\n",
       "    </tr>\n",
       "    <tr>\n",
       "      <th>3</th>\n",
       "      <td>male</td>\n",
       "      <td>group A</td>\n",
       "      <td>associate's degree</td>\n",
       "      <td>free/reduced</td>\n",
       "      <td>none</td>\n",
       "      <td>47</td>\n",
       "      <td>57</td>\n",
       "      <td>44</td>\n",
       "    </tr>\n",
       "    <tr>\n",
       "      <th>4</th>\n",
       "      <td>male</td>\n",
       "      <td>group C</td>\n",
       "      <td>some college</td>\n",
       "      <td>standard</td>\n",
       "      <td>none</td>\n",
       "      <td>76</td>\n",
       "      <td>78</td>\n",
       "      <td>75</td>\n",
       "    </tr>\n",
       "  </tbody>\n",
       "</table>\n",
       "</div>"
      ],
      "text/plain": [
       "   gender race/ethnicity parental level of education         lunch  \\\n",
       "0  female        group B           bachelor's degree      standard   \n",
       "1  female        group C                some college      standard   \n",
       "2  female        group B             master's degree      standard   \n",
       "3    male        group A          associate's degree  free/reduced   \n",
       "4    male        group C                some college      standard   \n",
       "\n",
       "  test preparation course  math score  reading score  writing score  \n",
       "0                    none          72             72             74  \n",
       "1               completed          69             90             88  \n",
       "2                    none          90             95             93  \n",
       "3                    none          47             57             44  \n",
       "4                    none          76             78             75  "
      ]
     },
     "execution_count": 3,
     "metadata": {},
     "output_type": "execute_result"
    }
   ],
   "source": [
    "df.head()"
   ]
  },
  {
   "cell_type": "code",
   "execution_count": 4,
   "metadata": {},
   "outputs": [
    {
     "data": {
      "text/plain": [
       "gender                         0\n",
       "race/ethnicity                 0\n",
       "parental level of education    0\n",
       "lunch                          0\n",
       "test preparation course        0\n",
       "math score                     0\n",
       "reading score                  0\n",
       "writing score                  0\n",
       "dtype: int64"
      ]
     },
     "execution_count": 4,
     "metadata": {},
     "output_type": "execute_result"
    }
   ],
   "source": [
    "df.isna().sum()"
   ]
  },
  {
   "cell_type": "code",
   "execution_count": 5,
   "metadata": {},
   "outputs": [
    {
     "name": "stdout",
     "output_type": "stream",
     "text": [
      "<class 'pandas.core.frame.DataFrame'>\n",
      "RangeIndex: 1000 entries, 0 to 999\n",
      "Data columns (total 8 columns):\n",
      " #   Column                       Non-Null Count  Dtype \n",
      "---  ------                       --------------  ----- \n",
      " 0   gender                       1000 non-null   object\n",
      " 1   race/ethnicity               1000 non-null   object\n",
      " 2   parental level of education  1000 non-null   object\n",
      " 3   lunch                        1000 non-null   object\n",
      " 4   test preparation course      1000 non-null   object\n",
      " 5   math score                   1000 non-null   int64 \n",
      " 6   reading score                1000 non-null   int64 \n",
      " 7   writing score                1000 non-null   int64 \n",
      "dtypes: int64(3), object(5)\n",
      "memory usage: 62.6+ KB\n"
     ]
    }
   ],
   "source": [
    "df.info()"
   ]
  },
  {
   "cell_type": "code",
   "execution_count": 6,
   "metadata": {},
   "outputs": [
    {
     "data": {
      "text/plain": [
       "female    518\n",
       "male      482\n",
       "Name: gender, dtype: int64"
      ]
     },
     "execution_count": 6,
     "metadata": {},
     "output_type": "execute_result"
    }
   ],
   "source": [
    "df['gender'].value_counts()"
   ]
  },
  {
   "cell_type": "code",
   "execution_count": 7,
   "metadata": {},
   "outputs": [
    {
     "data": {
      "text/plain": [
       "group C    319\n",
       "group D    262\n",
       "group B    190\n",
       "group E    140\n",
       "group A     89\n",
       "Name: race/ethnicity, dtype: int64"
      ]
     },
     "execution_count": 7,
     "metadata": {},
     "output_type": "execute_result"
    }
   ],
   "source": [
    "df['race/ethnicity'].value_counts()"
   ]
  },
  {
   "cell_type": "code",
   "execution_count": 8,
   "metadata": {},
   "outputs": [
    {
     "data": {
      "text/plain": [
       "some college          226\n",
       "associate's degree    222\n",
       "high school           196\n",
       "some high school      179\n",
       "bachelor's degree     118\n",
       "master's degree        59\n",
       "Name: parental level of education, dtype: int64"
      ]
     },
     "execution_count": 8,
     "metadata": {},
     "output_type": "execute_result"
    }
   ],
   "source": [
    "df['parental level of education'].value_counts()"
   ]
  },
  {
   "cell_type": "code",
   "execution_count": 9,
   "metadata": {},
   "outputs": [
    {
     "data": {
      "text/plain": [
       "standard        645\n",
       "free/reduced    355\n",
       "Name: lunch, dtype: int64"
      ]
     },
     "execution_count": 9,
     "metadata": {},
     "output_type": "execute_result"
    }
   ],
   "source": [
    "df['lunch'].value_counts()"
   ]
  },
  {
   "cell_type": "code",
   "execution_count": 10,
   "metadata": {},
   "outputs": [
    {
     "data": {
      "text/plain": [
       "none         642\n",
       "completed    358\n",
       "Name: test preparation course, dtype: int64"
      ]
     },
     "execution_count": 10,
     "metadata": {},
     "output_type": "execute_result"
    }
   ],
   "source": [
    "df['test preparation course'].value_counts()"
   ]
  },
  {
   "cell_type": "markdown",
   "metadata": {},
   "source": [
    "### split data into input variables and output variables"
   ]
  },
  {
   "cell_type": "code",
   "execution_count": 11,
   "metadata": {},
   "outputs": [],
   "source": [
    "X = df.iloc[:, 0:5]\n",
    "y = df.iloc[:, 5:]"
   ]
  },
  {
   "cell_type": "code",
   "execution_count": 12,
   "metadata": {},
   "outputs": [
    {
     "data": {
      "text/html": [
       "<div>\n",
       "<style scoped>\n",
       "    .dataframe tbody tr th:only-of-type {\n",
       "        vertical-align: middle;\n",
       "    }\n",
       "\n",
       "    .dataframe tbody tr th {\n",
       "        vertical-align: top;\n",
       "    }\n",
       "\n",
       "    .dataframe thead th {\n",
       "        text-align: right;\n",
       "    }\n",
       "</style>\n",
       "<table border=\"1\" class=\"dataframe\">\n",
       "  <thead>\n",
       "    <tr style=\"text-align: right;\">\n",
       "      <th></th>\n",
       "      <th>gender</th>\n",
       "      <th>race/ethnicity</th>\n",
       "      <th>parental level of education</th>\n",
       "      <th>lunch</th>\n",
       "      <th>test preparation course</th>\n",
       "    </tr>\n",
       "  </thead>\n",
       "  <tbody>\n",
       "    <tr>\n",
       "      <th>0</th>\n",
       "      <td>female</td>\n",
       "      <td>group B</td>\n",
       "      <td>bachelor's degree</td>\n",
       "      <td>standard</td>\n",
       "      <td>none</td>\n",
       "    </tr>\n",
       "    <tr>\n",
       "      <th>1</th>\n",
       "      <td>female</td>\n",
       "      <td>group C</td>\n",
       "      <td>some college</td>\n",
       "      <td>standard</td>\n",
       "      <td>completed</td>\n",
       "    </tr>\n",
       "    <tr>\n",
       "      <th>2</th>\n",
       "      <td>female</td>\n",
       "      <td>group B</td>\n",
       "      <td>master's degree</td>\n",
       "      <td>standard</td>\n",
       "      <td>none</td>\n",
       "    </tr>\n",
       "    <tr>\n",
       "      <th>3</th>\n",
       "      <td>male</td>\n",
       "      <td>group A</td>\n",
       "      <td>associate's degree</td>\n",
       "      <td>free/reduced</td>\n",
       "      <td>none</td>\n",
       "    </tr>\n",
       "    <tr>\n",
       "      <th>4</th>\n",
       "      <td>male</td>\n",
       "      <td>group C</td>\n",
       "      <td>some college</td>\n",
       "      <td>standard</td>\n",
       "      <td>none</td>\n",
       "    </tr>\n",
       "  </tbody>\n",
       "</table>\n",
       "</div>"
      ],
      "text/plain": [
       "   gender race/ethnicity parental level of education         lunch  \\\n",
       "0  female        group B           bachelor's degree      standard   \n",
       "1  female        group C                some college      standard   \n",
       "2  female        group B             master's degree      standard   \n",
       "3    male        group A          associate's degree  free/reduced   \n",
       "4    male        group C                some college      standard   \n",
       "\n",
       "  test preparation course  \n",
       "0                    none  \n",
       "1               completed  \n",
       "2                    none  \n",
       "3                    none  \n",
       "4                    none  "
      ]
     },
     "execution_count": 12,
     "metadata": {},
     "output_type": "execute_result"
    }
   ],
   "source": [
    "X.head()"
   ]
  },
  {
   "cell_type": "code",
   "execution_count": 13,
   "metadata": {},
   "outputs": [
    {
     "data": {
      "text/html": [
       "<div>\n",
       "<style scoped>\n",
       "    .dataframe tbody tr th:only-of-type {\n",
       "        vertical-align: middle;\n",
       "    }\n",
       "\n",
       "    .dataframe tbody tr th {\n",
       "        vertical-align: top;\n",
       "    }\n",
       "\n",
       "    .dataframe thead th {\n",
       "        text-align: right;\n",
       "    }\n",
       "</style>\n",
       "<table border=\"1\" class=\"dataframe\">\n",
       "  <thead>\n",
       "    <tr style=\"text-align: right;\">\n",
       "      <th></th>\n",
       "      <th>math score</th>\n",
       "      <th>reading score</th>\n",
       "      <th>writing score</th>\n",
       "    </tr>\n",
       "  </thead>\n",
       "  <tbody>\n",
       "    <tr>\n",
       "      <th>0</th>\n",
       "      <td>72</td>\n",
       "      <td>72</td>\n",
       "      <td>74</td>\n",
       "    </tr>\n",
       "    <tr>\n",
       "      <th>1</th>\n",
       "      <td>69</td>\n",
       "      <td>90</td>\n",
       "      <td>88</td>\n",
       "    </tr>\n",
       "    <tr>\n",
       "      <th>2</th>\n",
       "      <td>90</td>\n",
       "      <td>95</td>\n",
       "      <td>93</td>\n",
       "    </tr>\n",
       "    <tr>\n",
       "      <th>3</th>\n",
       "      <td>47</td>\n",
       "      <td>57</td>\n",
       "      <td>44</td>\n",
       "    </tr>\n",
       "    <tr>\n",
       "      <th>4</th>\n",
       "      <td>76</td>\n",
       "      <td>78</td>\n",
       "      <td>75</td>\n",
       "    </tr>\n",
       "  </tbody>\n",
       "</table>\n",
       "</div>"
      ],
      "text/plain": [
       "   math score  reading score  writing score\n",
       "0          72             72             74\n",
       "1          69             90             88\n",
       "2          90             95             93\n",
       "3          47             57             44\n",
       "4          76             78             75"
      ]
     },
     "execution_count": 13,
     "metadata": {},
     "output_type": "execute_result"
    }
   ],
   "source": [
    "y.head()"
   ]
  },
  {
   "cell_type": "markdown",
   "metadata": {},
   "source": [
    "### one-hot coding for input variables"
   ]
  },
  {
   "cell_type": "code",
   "execution_count": 14,
   "metadata": {},
   "outputs": [],
   "source": [
    "X_dummies = pd.get_dummies(X)"
   ]
  },
  {
   "cell_type": "code",
   "execution_count": 15,
   "metadata": {},
   "outputs": [
    {
     "data": {
      "text/html": [
       "<div>\n",
       "<style scoped>\n",
       "    .dataframe tbody tr th:only-of-type {\n",
       "        vertical-align: middle;\n",
       "    }\n",
       "\n",
       "    .dataframe tbody tr th {\n",
       "        vertical-align: top;\n",
       "    }\n",
       "\n",
       "    .dataframe thead th {\n",
       "        text-align: right;\n",
       "    }\n",
       "</style>\n",
       "<table border=\"1\" class=\"dataframe\">\n",
       "  <thead>\n",
       "    <tr style=\"text-align: right;\">\n",
       "      <th></th>\n",
       "      <th>gender_female</th>\n",
       "      <th>gender_male</th>\n",
       "      <th>race/ethnicity_group A</th>\n",
       "      <th>race/ethnicity_group B</th>\n",
       "      <th>race/ethnicity_group C</th>\n",
       "      <th>race/ethnicity_group D</th>\n",
       "      <th>race/ethnicity_group E</th>\n",
       "      <th>parental level of education_associate's degree</th>\n",
       "      <th>parental level of education_bachelor's degree</th>\n",
       "      <th>parental level of education_high school</th>\n",
       "      <th>parental level of education_master's degree</th>\n",
       "      <th>parental level of education_some college</th>\n",
       "      <th>parental level of education_some high school</th>\n",
       "      <th>lunch_free/reduced</th>\n",
       "      <th>lunch_standard</th>\n",
       "      <th>test preparation course_completed</th>\n",
       "      <th>test preparation course_none</th>\n",
       "    </tr>\n",
       "  </thead>\n",
       "  <tbody>\n",
       "    <tr>\n",
       "      <th>0</th>\n",
       "      <td>1</td>\n",
       "      <td>0</td>\n",
       "      <td>0</td>\n",
       "      <td>1</td>\n",
       "      <td>0</td>\n",
       "      <td>0</td>\n",
       "      <td>0</td>\n",
       "      <td>0</td>\n",
       "      <td>1</td>\n",
       "      <td>0</td>\n",
       "      <td>0</td>\n",
       "      <td>0</td>\n",
       "      <td>0</td>\n",
       "      <td>0</td>\n",
       "      <td>1</td>\n",
       "      <td>0</td>\n",
       "      <td>1</td>\n",
       "    </tr>\n",
       "    <tr>\n",
       "      <th>1</th>\n",
       "      <td>1</td>\n",
       "      <td>0</td>\n",
       "      <td>0</td>\n",
       "      <td>0</td>\n",
       "      <td>1</td>\n",
       "      <td>0</td>\n",
       "      <td>0</td>\n",
       "      <td>0</td>\n",
       "      <td>0</td>\n",
       "      <td>0</td>\n",
       "      <td>0</td>\n",
       "      <td>1</td>\n",
       "      <td>0</td>\n",
       "      <td>0</td>\n",
       "      <td>1</td>\n",
       "      <td>1</td>\n",
       "      <td>0</td>\n",
       "    </tr>\n",
       "    <tr>\n",
       "      <th>2</th>\n",
       "      <td>1</td>\n",
       "      <td>0</td>\n",
       "      <td>0</td>\n",
       "      <td>1</td>\n",
       "      <td>0</td>\n",
       "      <td>0</td>\n",
       "      <td>0</td>\n",
       "      <td>0</td>\n",
       "      <td>0</td>\n",
       "      <td>0</td>\n",
       "      <td>1</td>\n",
       "      <td>0</td>\n",
       "      <td>0</td>\n",
       "      <td>0</td>\n",
       "      <td>1</td>\n",
       "      <td>0</td>\n",
       "      <td>1</td>\n",
       "    </tr>\n",
       "    <tr>\n",
       "      <th>3</th>\n",
       "      <td>0</td>\n",
       "      <td>1</td>\n",
       "      <td>1</td>\n",
       "      <td>0</td>\n",
       "      <td>0</td>\n",
       "      <td>0</td>\n",
       "      <td>0</td>\n",
       "      <td>1</td>\n",
       "      <td>0</td>\n",
       "      <td>0</td>\n",
       "      <td>0</td>\n",
       "      <td>0</td>\n",
       "      <td>0</td>\n",
       "      <td>1</td>\n",
       "      <td>0</td>\n",
       "      <td>0</td>\n",
       "      <td>1</td>\n",
       "    </tr>\n",
       "    <tr>\n",
       "      <th>4</th>\n",
       "      <td>0</td>\n",
       "      <td>1</td>\n",
       "      <td>0</td>\n",
       "      <td>0</td>\n",
       "      <td>1</td>\n",
       "      <td>0</td>\n",
       "      <td>0</td>\n",
       "      <td>0</td>\n",
       "      <td>0</td>\n",
       "      <td>0</td>\n",
       "      <td>0</td>\n",
       "      <td>1</td>\n",
       "      <td>0</td>\n",
       "      <td>0</td>\n",
       "      <td>1</td>\n",
       "      <td>0</td>\n",
       "      <td>1</td>\n",
       "    </tr>\n",
       "  </tbody>\n",
       "</table>\n",
       "</div>"
      ],
      "text/plain": [
       "   gender_female  gender_male  race/ethnicity_group A  race/ethnicity_group B  \\\n",
       "0              1            0                       0                       1   \n",
       "1              1            0                       0                       0   \n",
       "2              1            0                       0                       1   \n",
       "3              0            1                       1                       0   \n",
       "4              0            1                       0                       0   \n",
       "\n",
       "   race/ethnicity_group C  race/ethnicity_group D  race/ethnicity_group E  \\\n",
       "0                       0                       0                       0   \n",
       "1                       1                       0                       0   \n",
       "2                       0                       0                       0   \n",
       "3                       0                       0                       0   \n",
       "4                       1                       0                       0   \n",
       "\n",
       "   parental level of education_associate's degree  \\\n",
       "0                                               0   \n",
       "1                                               0   \n",
       "2                                               0   \n",
       "3                                               1   \n",
       "4                                               0   \n",
       "\n",
       "   parental level of education_bachelor's degree  \\\n",
       "0                                              1   \n",
       "1                                              0   \n",
       "2                                              0   \n",
       "3                                              0   \n",
       "4                                              0   \n",
       "\n",
       "   parental level of education_high school  \\\n",
       "0                                        0   \n",
       "1                                        0   \n",
       "2                                        0   \n",
       "3                                        0   \n",
       "4                                        0   \n",
       "\n",
       "   parental level of education_master's degree  \\\n",
       "0                                            0   \n",
       "1                                            0   \n",
       "2                                            1   \n",
       "3                                            0   \n",
       "4                                            0   \n",
       "\n",
       "   parental level of education_some college  \\\n",
       "0                                         0   \n",
       "1                                         1   \n",
       "2                                         0   \n",
       "3                                         0   \n",
       "4                                         1   \n",
       "\n",
       "   parental level of education_some high school  lunch_free/reduced  \\\n",
       "0                                             0                   0   \n",
       "1                                             0                   0   \n",
       "2                                             0                   0   \n",
       "3                                             0                   1   \n",
       "4                                             0                   0   \n",
       "\n",
       "   lunch_standard  test preparation course_completed  \\\n",
       "0               1                                  0   \n",
       "1               1                                  1   \n",
       "2               1                                  0   \n",
       "3               0                                  0   \n",
       "4               1                                  0   \n",
       "\n",
       "   test preparation course_none  \n",
       "0                             1  \n",
       "1                             0  \n",
       "2                             1  \n",
       "3                             1  \n",
       "4                             1  "
      ]
     },
     "execution_count": 15,
     "metadata": {},
     "output_type": "execute_result"
    }
   ],
   "source": [
    "X_dummies.head()"
   ]
  },
  {
   "cell_type": "markdown",
   "metadata": {},
   "source": [
    "### split data into train and test data"
   ]
  },
  {
   "cell_type": "code",
   "execution_count": 133,
   "metadata": {},
   "outputs": [
    {
     "data": {
      "text/plain": [
       "17"
      ]
     },
     "execution_count": 133,
     "metadata": {},
     "output_type": "execute_result"
    }
   ],
   "source": []
  },
  {
   "cell_type": "code",
   "execution_count": 16,
   "metadata": {},
   "outputs": [
    {
     "name": "stdout",
     "output_type": "stream",
     "text": [
      "X: (1000, 17) Y: (1000, 3)\n"
     ]
    }
   ],
   "source": [
    "print(\"X:\", X_dummies.shape, \"Y:\", y.shape)\n",
    "in_dim = X_dummies.shape[1]\n",
    "out_dim = y.shape[1]"
   ]
  },
  {
   "cell_type": "code",
   "execution_count": 17,
   "metadata": {},
   "outputs": [
    {
     "name": "stdout",
     "output_type": "stream",
     "text": [
      "xtrain: (850, 17) ytrian: (850, 3)\n"
     ]
    }
   ],
   "source": [
    "#split data into train and test of 15%\n",
    "X_train, X_test, y_train, y_test = train_test_split(X_dummies, y, test_size=0.15, random_state=42)\n",
    "\n",
    "#print shape of train dataset\n",
    "print(\"xtrain:\", X_train.shape, \"ytrian:\", y_train.shape)"
   ]
  },
  {
   "cell_type": "code",
   "execution_count": 18,
   "metadata": {},
   "outputs": [
    {
     "data": {
      "text/html": [
       "<div>\n",
       "<style scoped>\n",
       "    .dataframe tbody tr th:only-of-type {\n",
       "        vertical-align: middle;\n",
       "    }\n",
       "\n",
       "    .dataframe tbody tr th {\n",
       "        vertical-align: top;\n",
       "    }\n",
       "\n",
       "    .dataframe thead th {\n",
       "        text-align: right;\n",
       "    }\n",
       "</style>\n",
       "<table border=\"1\" class=\"dataframe\">\n",
       "  <thead>\n",
       "    <tr style=\"text-align: right;\">\n",
       "      <th></th>\n",
       "      <th>gender_female</th>\n",
       "      <th>gender_male</th>\n",
       "      <th>race/ethnicity_group A</th>\n",
       "      <th>race/ethnicity_group B</th>\n",
       "      <th>race/ethnicity_group C</th>\n",
       "      <th>race/ethnicity_group D</th>\n",
       "      <th>race/ethnicity_group E</th>\n",
       "      <th>parental level of education_associate's degree</th>\n",
       "      <th>parental level of education_bachelor's degree</th>\n",
       "      <th>parental level of education_high school</th>\n",
       "      <th>parental level of education_master's degree</th>\n",
       "      <th>parental level of education_some college</th>\n",
       "      <th>parental level of education_some high school</th>\n",
       "      <th>lunch_free/reduced</th>\n",
       "      <th>lunch_standard</th>\n",
       "      <th>test preparation course_completed</th>\n",
       "      <th>test preparation course_none</th>\n",
       "    </tr>\n",
       "  </thead>\n",
       "  <tbody>\n",
       "    <tr>\n",
       "      <th>643</th>\n",
       "      <td>1</td>\n",
       "      <td>0</td>\n",
       "      <td>0</td>\n",
       "      <td>0</td>\n",
       "      <td>0</td>\n",
       "      <td>0</td>\n",
       "      <td>1</td>\n",
       "      <td>0</td>\n",
       "      <td>0</td>\n",
       "      <td>1</td>\n",
       "      <td>0</td>\n",
       "      <td>0</td>\n",
       "      <td>0</td>\n",
       "      <td>0</td>\n",
       "      <td>1</td>\n",
       "      <td>1</td>\n",
       "      <td>0</td>\n",
       "    </tr>\n",
       "    <tr>\n",
       "      <th>158</th>\n",
       "      <td>1</td>\n",
       "      <td>0</td>\n",
       "      <td>0</td>\n",
       "      <td>1</td>\n",
       "      <td>0</td>\n",
       "      <td>0</td>\n",
       "      <td>0</td>\n",
       "      <td>1</td>\n",
       "      <td>0</td>\n",
       "      <td>0</td>\n",
       "      <td>0</td>\n",
       "      <td>0</td>\n",
       "      <td>0</td>\n",
       "      <td>0</td>\n",
       "      <td>1</td>\n",
       "      <td>1</td>\n",
       "      <td>0</td>\n",
       "    </tr>\n",
       "    <tr>\n",
       "      <th>977</th>\n",
       "      <td>0</td>\n",
       "      <td>1</td>\n",
       "      <td>0</td>\n",
       "      <td>0</td>\n",
       "      <td>1</td>\n",
       "      <td>0</td>\n",
       "      <td>0</td>\n",
       "      <td>1</td>\n",
       "      <td>0</td>\n",
       "      <td>0</td>\n",
       "      <td>0</td>\n",
       "      <td>0</td>\n",
       "      <td>0</td>\n",
       "      <td>0</td>\n",
       "      <td>1</td>\n",
       "      <td>0</td>\n",
       "      <td>1</td>\n",
       "    </tr>\n",
       "    <tr>\n",
       "      <th>429</th>\n",
       "      <td>0</td>\n",
       "      <td>1</td>\n",
       "      <td>0</td>\n",
       "      <td>0</td>\n",
       "      <td>1</td>\n",
       "      <td>0</td>\n",
       "      <td>0</td>\n",
       "      <td>0</td>\n",
       "      <td>0</td>\n",
       "      <td>0</td>\n",
       "      <td>0</td>\n",
       "      <td>0</td>\n",
       "      <td>1</td>\n",
       "      <td>1</td>\n",
       "      <td>0</td>\n",
       "      <td>0</td>\n",
       "      <td>1</td>\n",
       "    </tr>\n",
       "    <tr>\n",
       "      <th>941</th>\n",
       "      <td>1</td>\n",
       "      <td>0</td>\n",
       "      <td>0</td>\n",
       "      <td>0</td>\n",
       "      <td>0</td>\n",
       "      <td>1</td>\n",
       "      <td>0</td>\n",
       "      <td>0</td>\n",
       "      <td>0</td>\n",
       "      <td>0</td>\n",
       "      <td>1</td>\n",
       "      <td>0</td>\n",
       "      <td>0</td>\n",
       "      <td>0</td>\n",
       "      <td>1</td>\n",
       "      <td>0</td>\n",
       "      <td>1</td>\n",
       "    </tr>\n",
       "  </tbody>\n",
       "</table>\n",
       "</div>"
      ],
      "text/plain": [
       "     gender_female  gender_male  race/ethnicity_group A  \\\n",
       "643              1            0                       0   \n",
       "158              1            0                       0   \n",
       "977              0            1                       0   \n",
       "429              0            1                       0   \n",
       "941              1            0                       0   \n",
       "\n",
       "     race/ethnicity_group B  race/ethnicity_group C  race/ethnicity_group D  \\\n",
       "643                       0                       0                       0   \n",
       "158                       1                       0                       0   \n",
       "977                       0                       1                       0   \n",
       "429                       0                       1                       0   \n",
       "941                       0                       0                       1   \n",
       "\n",
       "     race/ethnicity_group E  parental level of education_associate's degree  \\\n",
       "643                       1                                               0   \n",
       "158                       0                                               1   \n",
       "977                       0                                               1   \n",
       "429                       0                                               0   \n",
       "941                       0                                               0   \n",
       "\n",
       "     parental level of education_bachelor's degree  \\\n",
       "643                                              0   \n",
       "158                                              0   \n",
       "977                                              0   \n",
       "429                                              0   \n",
       "941                                              0   \n",
       "\n",
       "     parental level of education_high school  \\\n",
       "643                                        1   \n",
       "158                                        0   \n",
       "977                                        0   \n",
       "429                                        0   \n",
       "941                                        0   \n",
       "\n",
       "     parental level of education_master's degree  \\\n",
       "643                                            0   \n",
       "158                                            0   \n",
       "977                                            0   \n",
       "429                                            0   \n",
       "941                                            1   \n",
       "\n",
       "     parental level of education_some college  \\\n",
       "643                                         0   \n",
       "158                                         0   \n",
       "977                                         0   \n",
       "429                                         0   \n",
       "941                                         0   \n",
       "\n",
       "     parental level of education_some high school  lunch_free/reduced  \\\n",
       "643                                             0                   0   \n",
       "158                                             0                   0   \n",
       "977                                             0                   0   \n",
       "429                                             1                   1   \n",
       "941                                             0                   0   \n",
       "\n",
       "     lunch_standard  test preparation course_completed  \\\n",
       "643               1                                  1   \n",
       "158               1                                  1   \n",
       "977               1                                  0   \n",
       "429               0                                  0   \n",
       "941               1                                  0   \n",
       "\n",
       "     test preparation course_none  \n",
       "643                             0  \n",
       "158                             0  \n",
       "977                             1  \n",
       "429                             1  \n",
       "941                             1  "
      ]
     },
     "execution_count": 18,
     "metadata": {},
     "output_type": "execute_result"
    }
   ],
   "source": [
    "X_train.head()"
   ]
  },
  {
   "cell_type": "markdown",
   "metadata": {},
   "source": [
    "### Building Neural network"
   ]
  },
  {
   "cell_type": "code",
   "execution_count": 128,
   "metadata": {},
   "outputs": [
    {
     "name": "stdout",
     "output_type": "stream",
     "text": [
      "Model: \"sequential_23\"\n",
      "_________________________________________________________________\n",
      "Layer (type)                 Output Shape              Param #   \n",
      "=================================================================\n",
      "dense_62 (Dense)             (None, 32)                576       \n",
      "_________________________________________________________________\n",
      "dropout_26 (Dropout)         (None, 32)                0         \n",
      "_________________________________________________________________\n",
      "dense_63 (Dense)             (None, 3)                 99        \n",
      "=================================================================\n",
      "Total params: 675\n",
      "Trainable params: 675\n",
      "Non-trainable params: 0\n",
      "_________________________________________________________________\n"
     ]
    }
   ],
   "source": [
    "model = Sequential()\n",
    "model.add(Dense(32, input_dim=in_dim, activation=\"relu\"))\n",
    "model.add(Dropout(0.3))\n",
    "#model.add(Dense(32, activation=\"relu\"))\n",
    "#model.add(Dropout(0.2))\n",
    "model.add(Dense(out_dim))\n",
    "model.compile(loss=\"mse\", optimizer=\"adam\", metrics=['accuracy'])\n",
    " \n",
    "model.summary()"
   ]
  },
  {
   "cell_type": "code",
   "execution_count": 57,
   "metadata": {},
   "outputs": [
    {
     "data": {
      "text/plain": [
       "(1000, 5)"
      ]
     },
     "execution_count": 57,
     "metadata": {},
     "output_type": "execute_result"
    }
   ],
   "source": [
    "X.shape"
   ]
  },
  {
   "cell_type": "code",
   "execution_count": 129,
   "metadata": {
    "scrolled": true
   },
   "outputs": [
    {
     "name": "stdout",
     "output_type": "stream",
     "text": [
      "Epoch 1/100\n",
      "61/61 [==============================] - 0s 3ms/step - loss: 4848.1353 - accuracy: 0.3532 - val_loss: 4684.1543 - val_accuracy: 0.3828\n",
      "Epoch 2/100\n",
      "61/61 [==============================] - 0s 2ms/step - loss: 4674.9512 - accuracy: 0.3643 - val_loss: 4420.3477 - val_accuracy: 0.3984\n",
      "Epoch 3/100\n",
      "61/61 [==============================] - 0s 1ms/step - loss: 4267.9458 - accuracy: 0.3850 - val_loss: 3857.4919 - val_accuracy: 0.3906\n",
      "Epoch 4/100\n",
      "61/61 [==============================] - 0s 1ms/step - loss: 3570.2292 - accuracy: 0.3740 - val_loss: 3062.8262 - val_accuracy: 0.3828\n",
      "Epoch 5/100\n",
      "61/61 [==============================] - 0s 1ms/step - loss: 2726.7886 - accuracy: 0.3587 - val_loss: 2227.4062 - val_accuracy: 0.3828\n",
      "Epoch 6/100\n",
      "61/61 [==============================] - 0s 1ms/step - loss: 1917.8368 - accuracy: 0.3698 - val_loss: 1482.5123 - val_accuracy: 0.3828\n",
      "Epoch 7/100\n",
      "61/61 [==============================] - 0s 1ms/step - loss: 1274.1470 - accuracy: 0.3615 - val_loss: 921.0714 - val_accuracy: 0.3828\n",
      "Epoch 8/100\n",
      "61/61 [==============================] - 1s 14ms/step - loss: 793.7794 - accuracy: 0.3850 - val_loss: 560.3462 - val_accuracy: 0.3828\n",
      "Epoch 9/100\n",
      "61/61 [==============================] - 0s 6ms/step - loss: 519.7774 - accuracy: 0.3684 - val_loss: 365.6223 - val_accuracy: 0.3828\n",
      "Epoch 10/100\n",
      "61/61 [==============================] - 0s 1ms/step - loss: 390.3153 - accuracy: 0.3449 - val_loss: 285.3723 - val_accuracy: 0.3828\n",
      "Epoch 11/100\n",
      "61/61 [==============================] - 0s 1ms/step - loss: 339.9512 - accuracy: 0.3864 - val_loss: 252.1812 - val_accuracy: 0.3828\n",
      "Epoch 12/100\n",
      "61/61 [==============================] - 0s 2ms/step - loss: 307.7128 - accuracy: 0.3532 - val_loss: 239.9056 - val_accuracy: 0.3828\n",
      "Epoch 13/100\n",
      "61/61 [==============================] - 0s 2ms/step - loss: 293.9623 - accuracy: 0.3601 - val_loss: 233.5705 - val_accuracy: 0.3828\n",
      "Epoch 14/100\n",
      "61/61 [==============================] - 0s 1ms/step - loss: 305.7534 - accuracy: 0.3490 - val_loss: 228.3675 - val_accuracy: 0.3750\n",
      "Epoch 15/100\n",
      "61/61 [==============================] - 0s 1ms/step - loss: 291.7502 - accuracy: 0.3532 - val_loss: 223.3384 - val_accuracy: 0.3750\n",
      "Epoch 16/100\n",
      "61/61 [==============================] - 0s 1ms/step - loss: 286.4140 - accuracy: 0.3670 - val_loss: 218.9757 - val_accuracy: 0.3750\n",
      "Epoch 17/100\n",
      "61/61 [==============================] - 0s 1ms/step - loss: 284.4167 - accuracy: 0.3366 - val_loss: 214.5714 - val_accuracy: 0.3750\n",
      "Epoch 18/100\n",
      "61/61 [==============================] - 0s 1ms/step - loss: 292.4510 - accuracy: 0.3449 - val_loss: 211.8559 - val_accuracy: 0.3828\n",
      "Epoch 19/100\n",
      "61/61 [==============================] - 0s 2ms/step - loss: 259.3219 - accuracy: 0.3435 - val_loss: 209.2842 - val_accuracy: 0.4062\n",
      "Epoch 20/100\n",
      "61/61 [==============================] - 0s 1ms/step - loss: 256.6493 - accuracy: 0.3587 - val_loss: 206.2935 - val_accuracy: 0.4141\n",
      "Epoch 21/100\n",
      "61/61 [==============================] - 0s 2ms/step - loss: 268.7531 - accuracy: 0.3463 - val_loss: 203.8376 - val_accuracy: 0.4141\n",
      "Epoch 22/100\n",
      "61/61 [==============================] - 0s 2ms/step - loss: 274.0653 - accuracy: 0.3421 - val_loss: 201.5245 - val_accuracy: 0.4219\n",
      "Epoch 23/100\n",
      "61/61 [==============================] - 1s 18ms/step - loss: 266.3029 - accuracy: 0.3532 - val_loss: 199.2068 - val_accuracy: 0.3984\n",
      "Epoch 24/100\n",
      "61/61 [==============================] - 0s 3ms/step - loss: 284.6486 - accuracy: 0.3407 - val_loss: 197.5002 - val_accuracy: 0.3906\n",
      "Epoch 25/100\n",
      "61/61 [==============================] - 0s 2ms/step - loss: 260.8856 - accuracy: 0.3463 - val_loss: 195.9232 - val_accuracy: 0.3984\n",
      "Epoch 26/100\n",
      "61/61 [==============================] - 0s 2ms/step - loss: 236.3278 - accuracy: 0.3407 - val_loss: 195.0718 - val_accuracy: 0.4141\n",
      "Epoch 27/100\n",
      "61/61 [==============================] - 0s 2ms/step - loss: 242.0632 - accuracy: 0.3227 - val_loss: 194.2623 - val_accuracy: 0.4062\n",
      "Epoch 28/100\n",
      "61/61 [==============================] - 0s 2ms/step - loss: 251.4868 - accuracy: 0.3463 - val_loss: 193.0694 - val_accuracy: 0.3984\n",
      "Epoch 29/100\n",
      "61/61 [==============================] - 0s 2ms/step - loss: 261.2351 - accuracy: 0.4003 - val_loss: 192.5390 - val_accuracy: 0.3984\n",
      "Epoch 30/100\n",
      "61/61 [==============================] - 0s 2ms/step - loss: 265.7791 - accuracy: 0.3670 - val_loss: 191.9822 - val_accuracy: 0.3984\n",
      "Epoch 31/100\n",
      "61/61 [==============================] - 0s 2ms/step - loss: 247.3192 - accuracy: 0.3726 - val_loss: 190.7646 - val_accuracy: 0.4219\n",
      "Epoch 32/100\n",
      "61/61 [==============================] - 1s 16ms/step - loss: 263.4429 - accuracy: 0.3532 - val_loss: 190.2792 - val_accuracy: 0.3984\n",
      "Epoch 33/100\n",
      "61/61 [==============================] - 0s 5ms/step - loss: 261.1393 - accuracy: 0.3546 - val_loss: 189.8072 - val_accuracy: 0.4219\n",
      "Epoch 34/100\n",
      "61/61 [==============================] - 0s 3ms/step - loss: 239.1212 - accuracy: 0.3712 - val_loss: 189.7435 - val_accuracy: 0.4141\n",
      "Epoch 35/100\n",
      "61/61 [==============================] - 0s 2ms/step - loss: 251.3353 - accuracy: 0.3518 - val_loss: 189.3107 - val_accuracy: 0.4062\n",
      "Epoch 36/100\n",
      "61/61 [==============================] - 0s 1ms/step - loss: 240.0460 - accuracy: 0.3518 - val_loss: 188.9864 - val_accuracy: 0.4141\n",
      "Epoch 37/100\n",
      "61/61 [==============================] - 0s 2ms/step - loss: 250.4947 - accuracy: 0.3490 - val_loss: 188.5028 - val_accuracy: 0.4141\n",
      "Epoch 38/100\n",
      "61/61 [==============================] - 0s 2ms/step - loss: 247.6146 - accuracy: 0.3989 - val_loss: 187.7802 - val_accuracy: 0.4219\n",
      "Epoch 39/100\n",
      "61/61 [==============================] - 0s 1ms/step - loss: 251.8277 - accuracy: 0.4100 - val_loss: 187.2137 - val_accuracy: 0.4219\n",
      "Epoch 40/100\n",
      "61/61 [==============================] - 0s 1ms/step - loss: 240.2239 - accuracy: 0.3850 - val_loss: 186.6794 - val_accuracy: 0.4219\n",
      "Epoch 41/100\n",
      "61/61 [==============================] - 0s 2ms/step - loss: 235.7483 - accuracy: 0.3920 - val_loss: 186.0859 - val_accuracy: 0.4141\n",
      "Epoch 42/100\n",
      "61/61 [==============================] - 1s 19ms/step - loss: 247.5770 - accuracy: 0.4058 - val_loss: 185.3556 - val_accuracy: 0.4141\n",
      "Epoch 43/100\n",
      "61/61 [==============================] - 0s 2ms/step - loss: 246.9663 - accuracy: 0.3920 - val_loss: 185.4721 - val_accuracy: 0.4062\n",
      "Epoch 44/100\n",
      "61/61 [==============================] - 0s 2ms/step - loss: 236.3983 - accuracy: 0.4252 - val_loss: 185.7962 - val_accuracy: 0.4141\n",
      "Epoch 45/100\n",
      "61/61 [==============================] - 0s 1ms/step - loss: 248.1373 - accuracy: 0.3892 - val_loss: 184.9849 - val_accuracy: 0.4141\n",
      "Epoch 46/100\n",
      "61/61 [==============================] - 0s 1ms/step - loss: 252.7774 - accuracy: 0.4224 - val_loss: 184.5376 - val_accuracy: 0.4297\n",
      "Epoch 47/100\n",
      "61/61 [==============================] - 0s 2ms/step - loss: 249.0819 - accuracy: 0.4141 - val_loss: 184.1151 - val_accuracy: 0.4297\n",
      "Epoch 48/100\n",
      "61/61 [==============================] - 0s 1ms/step - loss: 232.4002 - accuracy: 0.4224 - val_loss: 184.0855 - val_accuracy: 0.4297\n",
      "Epoch 49/100\n",
      "61/61 [==============================] - 0s 1ms/step - loss: 237.7153 - accuracy: 0.4474 - val_loss: 184.0835 - val_accuracy: 0.4297\n",
      "Epoch 50/100\n",
      "61/61 [==============================] - 0s 1ms/step - loss: 236.5572 - accuracy: 0.4751 - val_loss: 183.3349 - val_accuracy: 0.4688\n",
      "Epoch 51/100\n",
      "61/61 [==============================] - 0s 1ms/step - loss: 251.1553 - accuracy: 0.4488 - val_loss: 183.4751 - val_accuracy: 0.5234\n",
      "Epoch 52/100\n",
      "61/61 [==============================] - 0s 1ms/step - loss: 250.2316 - accuracy: 0.4917 - val_loss: 183.8000 - val_accuracy: 0.5391\n",
      "Epoch 53/100\n",
      "61/61 [==============================] - 0s 1ms/step - loss: 237.3808 - accuracy: 0.4612 - val_loss: 183.6983 - val_accuracy: 0.5391\n",
      "Epoch 54/100\n",
      "61/61 [==============================] - 0s 1ms/step - loss: 251.9654 - accuracy: 0.4501 - val_loss: 183.7946 - val_accuracy: 0.5312\n",
      "Epoch 55/100\n",
      "61/61 [==============================] - 0s 1ms/step - loss: 234.9695 - accuracy: 0.4903 - val_loss: 182.9390 - val_accuracy: 0.5469\n",
      "Epoch 56/100\n",
      "61/61 [==============================] - 1s 19ms/step - loss: 256.7569 - accuracy: 0.4640 - val_loss: 182.7579 - val_accuracy: 0.5469\n",
      "Epoch 57/100\n"
     ]
    },
    {
     "name": "stdout",
     "output_type": "stream",
     "text": [
      "61/61 [==============================] - 0s 2ms/step - loss: 257.7243 - accuracy: 0.5111 - val_loss: 182.1670 - val_accuracy: 0.6016\n",
      "Epoch 58/100\n",
      "61/61 [==============================] - 0s 1ms/step - loss: 246.9221 - accuracy: 0.4806 - val_loss: 182.1747 - val_accuracy: 0.5781\n",
      "Epoch 59/100\n",
      "61/61 [==============================] - 0s 1ms/step - loss: 272.6611 - accuracy: 0.4737 - val_loss: 182.3342 - val_accuracy: 0.5859\n",
      "Epoch 60/100\n",
      "61/61 [==============================] - 0s 1ms/step - loss: 250.8074 - accuracy: 0.4958 - val_loss: 182.8460 - val_accuracy: 0.5859\n",
      "Epoch 61/100\n",
      "61/61 [==============================] - 0s 1ms/step - loss: 238.9747 - accuracy: 0.4861 - val_loss: 181.8455 - val_accuracy: 0.5938\n",
      "Epoch 62/100\n",
      "61/61 [==============================] - 0s 1ms/step - loss: 231.7808 - accuracy: 0.5374 - val_loss: 182.3963 - val_accuracy: 0.5938\n",
      "Epoch 63/100\n",
      "61/61 [==============================] - 0s 1ms/step - loss: 255.2703 - accuracy: 0.5139 - val_loss: 182.4346 - val_accuracy: 0.5859\n",
      "Epoch 64/100\n",
      "61/61 [==============================] - 0s 1ms/step - loss: 237.6636 - accuracy: 0.5346 - val_loss: 181.8858 - val_accuracy: 0.5938\n",
      "Epoch 65/100\n",
      "61/61 [==============================] - 0s 1ms/step - loss: 241.9522 - accuracy: 0.4903 - val_loss: 181.8374 - val_accuracy: 0.5859\n",
      "Epoch 66/100\n",
      "61/61 [==============================] - 0s 1ms/step - loss: 225.3110 - accuracy: 0.5152 - val_loss: 181.8087 - val_accuracy: 0.6016\n",
      "Epoch 67/100\n",
      "61/61 [==============================] - 0s 1ms/step - loss: 254.6351 - accuracy: 0.4834 - val_loss: 181.4781 - val_accuracy: 0.5859\n",
      "Epoch 68/100\n",
      "61/61 [==============================] - 0s 4ms/step - loss: 238.0431 - accuracy: 0.5139 - val_loss: 180.9638 - val_accuracy: 0.5938\n",
      "Epoch 69/100\n",
      "61/61 [==============================] - 1s 16ms/step - loss: 242.1054 - accuracy: 0.5499 - val_loss: 181.1797 - val_accuracy: 0.6094\n",
      "Epoch 70/100\n",
      "61/61 [==============================] - 0s 2ms/step - loss: 235.2836 - accuracy: 0.5152 - val_loss: 181.5377 - val_accuracy: 0.6094\n",
      "Epoch 71/100\n",
      "61/61 [==============================] - 0s 2ms/step - loss: 240.3619 - accuracy: 0.5291 - val_loss: 181.3849 - val_accuracy: 0.6172\n",
      "Epoch 72/100\n",
      "61/61 [==============================] - 0s 2ms/step - loss: 249.7913 - accuracy: 0.5014 - val_loss: 181.5660 - val_accuracy: 0.6094\n",
      "Epoch 73/100\n",
      "61/61 [==============================] - 0s 2ms/step - loss: 247.9377 - accuracy: 0.5097 - val_loss: 181.5845 - val_accuracy: 0.6250\n",
      "Epoch 74/100\n",
      "61/61 [==============================] - 0s 2ms/step - loss: 248.3642 - accuracy: 0.5319 - val_loss: 181.7974 - val_accuracy: 0.6016\n",
      "Epoch 75/100\n",
      "61/61 [==============================] - 0s 1ms/step - loss: 251.4429 - accuracy: 0.5125 - val_loss: 181.7653 - val_accuracy: 0.6172\n",
      "Epoch 76/100\n",
      "61/61 [==============================] - 0s 1ms/step - loss: 252.3405 - accuracy: 0.5416 - val_loss: 181.4139 - val_accuracy: 0.6172\n",
      "Epoch 77/100\n",
      "61/61 [==============================] - 0s 2ms/step - loss: 228.9584 - accuracy: 0.5305 - val_loss: 181.5887 - val_accuracy: 0.6016\n",
      "Epoch 78/100\n",
      "61/61 [==============================] - 0s 2ms/step - loss: 243.3036 - accuracy: 0.4986 - val_loss: 181.5478 - val_accuracy: 0.6016\n",
      "Epoch 79/100\n",
      "61/61 [==============================] - 1s 12ms/step - loss: 237.9050 - accuracy: 0.5540 - val_loss: 181.5808 - val_accuracy: 0.5859\n",
      "Epoch 80/100\n",
      "61/61 [==============================] - 0s 8ms/step - loss: 218.8887 - accuracy: 0.5443 - val_loss: 181.7487 - val_accuracy: 0.5859\n",
      "Epoch 81/100\n",
      "61/61 [==============================] - 0s 1ms/step - loss: 248.2310 - accuracy: 0.4917 - val_loss: 181.4274 - val_accuracy: 0.5859\n",
      "Epoch 82/100\n",
      "61/61 [==============================] - 0s 1ms/step - loss: 224.6738 - accuracy: 0.5125 - val_loss: 181.3459 - val_accuracy: 0.6016\n",
      "Epoch 83/100\n",
      "61/61 [==============================] - 0s 1ms/step - loss: 231.9318 - accuracy: 0.5125 - val_loss: 181.5567 - val_accuracy: 0.5938\n",
      "Epoch 84/100\n",
      "61/61 [==============================] - 0s 2ms/step - loss: 255.1713 - accuracy: 0.5000 - val_loss: 181.2976 - val_accuracy: 0.5781\n",
      "Epoch 85/100\n",
      "61/61 [==============================] - 0s 2ms/step - loss: 254.5621 - accuracy: 0.5402 - val_loss: 181.6278 - val_accuracy: 0.5938\n",
      "Epoch 86/100\n",
      "61/61 [==============================] - 0s 2ms/step - loss: 218.5174 - accuracy: 0.5319 - val_loss: 181.2402 - val_accuracy: 0.5859\n",
      "Epoch 87/100\n",
      "61/61 [==============================] - 0s 2ms/step - loss: 235.5670 - accuracy: 0.5429 - val_loss: 181.5753 - val_accuracy: 0.6094\n",
      "Epoch 88/100\n",
      "61/61 [==============================] - 0s 1ms/step - loss: 229.7494 - accuracy: 0.4986 - val_loss: 181.2291 - val_accuracy: 0.5859\n",
      "Epoch 89/100\n",
      "61/61 [==============================] - 0s 1ms/step - loss: 234.8760 - accuracy: 0.5028 - val_loss: 181.3663 - val_accuracy: 0.6016\n",
      "Epoch 90/100\n",
      "61/61 [==============================] - 0s 1ms/step - loss: 228.4277 - accuracy: 0.5083 - val_loss: 181.2537 - val_accuracy: 0.6016\n",
      "Epoch 91/100\n",
      "61/61 [==============================] - 0s 2ms/step - loss: 233.7053 - accuracy: 0.5111 - val_loss: 181.5492 - val_accuracy: 0.5859\n",
      "Epoch 92/100\n",
      "61/61 [==============================] - 0s 1ms/step - loss: 240.7998 - accuracy: 0.5125 - val_loss: 182.3274 - val_accuracy: 0.6016\n",
      "Epoch 93/100\n",
      "61/61 [==============================] - 0s 1ms/step - loss: 241.5122 - accuracy: 0.4820 - val_loss: 181.6141 - val_accuracy: 0.5938\n",
      "Epoch 94/100\n",
      "61/61 [==============================] - 0s 1ms/step - loss: 247.3672 - accuracy: 0.5222 - val_loss: 181.9889 - val_accuracy: 0.6094\n",
      "Epoch 95/100\n",
      "61/61 [==============================] - 0s 1ms/step - loss: 251.7270 - accuracy: 0.5042 - val_loss: 181.3296 - val_accuracy: 0.5938\n",
      "Epoch 96/100\n",
      "61/61 [==============================] - 0s 1ms/step - loss: 247.1417 - accuracy: 0.5429 - val_loss: 181.3156 - val_accuracy: 0.5938\n",
      "Epoch 97/100\n",
      "61/61 [==============================] - 0s 1ms/step - loss: 229.7045 - accuracy: 0.5346 - val_loss: 181.3863 - val_accuracy: 0.6016\n",
      "Epoch 98/100\n",
      "61/61 [==============================] - 1s 10ms/step - loss: 235.6593 - accuracy: 0.5374 - val_loss: 181.6823 - val_accuracy: 0.5859\n",
      "Epoch 99/100\n",
      "61/61 [==============================] - 1s 10ms/step - loss: 229.2511 - accuracy: 0.5443 - val_loss: 181.2287 - val_accuracy: 0.5859\n",
      "Epoch 100/100\n",
      "61/61 [==============================] - 0s 2ms/step - loss: 245.0679 - accuracy: 0.5152 - val_loss: 181.1123 - val_accuracy: 0.5938\n"
     ]
    },
    {
     "data": {
      "text/plain": [
       "<tensorflow.python.keras.callbacks.History at 0x7f45eece9850>"
      ]
     },
     "execution_count": 129,
     "metadata": {},
     "output_type": "execute_result"
    }
   ],
   "source": [
    "#fit the model and use 15% of the training data for validation\n",
    "model.fit(X_train, y_train, validation_split=0.15, epochs=100, batch_size=12)"
   ]
  },
  {
   "cell_type": "code",
   "execution_count": 130,
   "metadata": {},
   "outputs": [],
   "source": [
    "#tring model on the test set(unseen data)\n",
    "y_pred = model.predict(X_test)"
   ]
  },
  {
   "cell_type": "code",
   "execution_count": 131,
   "metadata": {},
   "outputs": [
    {
     "data": {
      "text/plain": [
       "196.8533396884542"
      ]
     },
     "execution_count": 131,
     "metadata": {},
     "output_type": "execute_result"
    }
   ],
   "source": [
    "mean_squared_error(y_test, y_pred)"
   ]
  },
  {
   "cell_type": "code",
   "execution_count": 132,
   "metadata": {},
   "outputs": [
    {
     "data": {
      "text/plain": [
       "0.20149021269607573"
      ]
     },
     "execution_count": 132,
     "metadata": {},
     "output_type": "execute_result"
    }
   ],
   "source": [
    "r2_score(y_test, y_pred)"
   ]
  },
  {
   "cell_type": "code",
   "execution_count": null,
   "metadata": {},
   "outputs": [],
   "source": []
  }
 ],
 "metadata": {
  "kernelspec": {
   "display_name": "Python 3.7.4 64-bit ('base': conda)",
   "language": "python",
   "name": "python374jvsc74a57bd06cede24cd936ad0e3c83e0ab0f4acd7b7d05709a3bdfca31a80747335e95e6bf"
  },
  "language_info": {
   "codemirror_mode": {
    "name": "ipython",
    "version": 3
   },
   "file_extension": ".py",
   "mimetype": "text/x-python",
   "name": "python",
   "nbconvert_exporter": "python",
   "pygments_lexer": "ipython3",
   "version": "3.7.4"
  }
 },
 "nbformat": 4,
 "nbformat_minor": 4
}
